{
  "nbformat": 4,
  "nbformat_minor": 0,
  "metadata": {
    "colab": {
      "name": "프롬프트에서 사용자 입력받기",
      "provenance": [],
      "authorship_tag": "ABX9TyNYkneTm6rK3pGVSmYGcZok"
    },
    "kernelspec": {
      "name": "python3",
      "display_name": "Python 3"
    },
    "language_info": {
      "name": "python"
    }
  },
  "cells": [
    {
      "cell_type": "code",
      "source": [
        "your_name = input('Enter your name: ')\n",
        "print(\"Hello\", your_name)"
      ],
      "metadata": {
        "colab": {
          "base_uri": "https://localhost:8080/"
        },
        "id": "R7n13E48xUCf",
        "outputId": "8e05e659-7b2b-4959-d4c7-47c7d31afe70"
      },
      "execution_count": null,
      "outputs": [
        {
          "output_type": "stream",
          "name": "stdout",
          "text": [
            "Enter your name: Chunck\n",
            "Hello Chunck\n"
          ]
        }
      ]
    },
    {
      "cell_type": "code",
      "source": [
        "hours = int(input('Enter Hours: '))\n",
        "Rate = float(input('Enter Rate: '))\n",
        "\n",
        "pay = hours * Rate\n",
        "\n",
        "print('Pay: ',pay)\n"
      ],
      "metadata": {
        "colab": {
          "base_uri": "https://localhost:8080/"
        },
        "id": "C93tnj2cxe7v",
        "outputId": "73823427-dfb1-4a3e-fc0f-a1acec9df996"
      },
      "execution_count": null,
      "outputs": [
        {
          "output_type": "stream",
          "name": "stdout",
          "text": [
            "Enter Hours: 35\n",
            "Enter Rate: 2.75\n",
            "Pay:  96.25\n"
          ]
        }
      ]
    },
    {
      "cell_type": "code",
      "source": [
        ""
      ],
      "metadata": {
        "id": "C1NNMzGzyCzE"
      },
      "execution_count": null,
      "outputs": []
    }
  ]
}