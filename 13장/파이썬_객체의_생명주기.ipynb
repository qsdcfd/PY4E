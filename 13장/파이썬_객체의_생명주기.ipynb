{
  "nbformat": 4,
  "nbformat_minor": 0,
  "metadata": {
    "colab": {
      "name": "파이썬 객체의 생명주기",
      "provenance": [],
      "authorship_tag": "ABX9TyO/hNfLp37NS9Vx/kkUULRA"
    },
    "kernelspec": {
      "name": "python3",
      "display_name": "Python 3"
    },
    "language_info": {
      "name": "python"
    }
  },
  "cells": [
    {
      "cell_type": "markdown",
      "source": [
        "\n",
        "\n",
        "### 생성자(Constructor)와 소멸자(Destructor)\n",
        "\n",
        "파이썬의 생성자는 __init__, 소멸자는 __del__로 정의합니다.\n",
        "\n",
        "이 코드에서는 객체를 생성할 때 생성자가 실행이 되고, 객체가 사라질 때 소멸자가 실행되는 것을 볼 수 있습니다.\n",
        "\n",
        "```\n",
        "class PartyAnimal:\n",
        "    x = 0\n",
        "\n",
        "    def __init__(self):\n",
        "        print('I am constructed')\n",
        "\n",
        "    def party(self) :\n",
        "        self.x = self.x + 1\n",
        "        print('So far',self.x)\n",
        "\n",
        "    def __del__(self):\n",
        "        print('I am destructed', self.x)\n",
        "\n",
        "an = PartyAnimal()\n",
        "an.party()\n",
        "an.party()\n",
        "an = 42\n",
        "print('an contains',an)\n",
        "\n",
        "# I am constructed\n",
        "# So far 1\n",
        "# So far 2\n",
        "# I am destructed 2\n",
        "# an contains 42\n",
        "```\n",
        "\n",
        "이 코드에서는 객체를 생성할 때 이름을 매개 변수로 넣어 name이라는 속성에 저장을 합니다.\n",
        "```\n",
        "\n",
        "class PartyAnimal:\n",
        "    x = 0\n",
        "    name = \"\"\n",
        "    def __init__(self, z):\n",
        "        self.name = z\n",
        "        print(self.name,\"constructed\")\n",
        "\n",
        "    def party(self) :\n",
        "        self.x = self.x + 1\n",
        "        print(self.name,\"party count\",self.x)\n",
        "\n",
        "s = PartyAnimal(\"Sally\")\n",
        "j = PartyAnimal(\"Jim\")\n",
        "\n",
        "s.party()\n",
        "j.party()\n",
        "s.party()\n",
        "\n",
        "# Sally constructed\n",
        "# Jim constructed\n",
        "# Sally party count 1\n",
        "# Jim party count 1\n",
        "# Sally party count 2\n",
        "```\n",
        "\n",
        "이 코드의 결과를 보면 객체를 두 번 생성할 경우 name이라는 속성과 x라는 속성은 각각 별개의 값을 저장한다는 걸 알 수 있습니다.\n",
        "\n"
      ],
      "metadata": {
        "id": "l-S-L0UWyPyu"
      }
    },
    {
      "cell_type": "code",
      "source": [
        ""
      ],
      "metadata": {
        "id": "XvzzMMd_yRol"
      },
      "execution_count": null,
      "outputs": []
    }
  ]
}